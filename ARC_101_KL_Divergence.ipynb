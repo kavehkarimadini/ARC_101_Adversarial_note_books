{
 "cells": [
  {
   "cell_type": "markdown",
   "id": "4f57ee6d-089a-4ddb-9c82-0f6dd2de473b",
   "metadata": {},
   "source": [
    "# What is KL divergence?\n",
    "\n",
    "**Kullback–Leibler (KL) divergence** measures how one distribution $P$ differs from another distribution $Q$ that you use to approximate it.\n",
    "\n",
    "* **Definition (discrete):**\n",
    "\n",
    "  $$\n",
    "  D_{\\mathrm{KL}}(P\\|Q)=\\sum_x P(x)\\,\\log\\frac{P(x)}{Q(x)}\n",
    "  $$\n",
    "* **Definition (continuous):**\n",
    "\n",
    "  $$\n",
    "  D_{\\mathrm{KL}}(P\\|Q)=\\int p(x)\\,\\log\\frac{p(x)}{q(x)}\\,dx\n",
    "  $$\n",
    "* **Expectation form (very useful):**\n",
    "\n",
    "  $$\n",
    "  D_{\\mathrm{KL}}(P\\|Q)=\\mathbb{E}_{x\\sim P}\\big[\\log p(x)-\\log q(x)\\big]\n",
    "  $$\n",
    "\n",
    "# Key properties (the “feel”)\n",
    "\n",
    "* $D_{\\mathrm{KL}}(P\\|Q)\\ge 0$ (Gibbs’ inequality), and $=0$ iff $P=Q$ almost everywhere.\n",
    "* **Not symmetric:** $D_{\\mathrm{KL}}(P\\|Q)\\neq D_{\\mathrm{KL}}(Q\\|P)$.\n",
    "* **Relation to cross-entropy:**\n",
    "  $D_{\\mathrm{KL}}(P\\|Q)=H(P,Q)-H(P)$.\n",
    "  When optimizing over $Q$, minimizing KL is the same as minimizing cross-entropy (since $H(P)$ is constant in $Q$).\n",
    "* **Mode-covering vs mode-seeking:**\n",
    "  Minimizing $D_{\\mathrm{KL}}(P\\|Q)$ (as in MLE) encourages $Q$ to “cover” all support where $P$ has mass; minimizing the **reverse** $D_{\\mathrm{KL}}(Q\\|P)$ is more mode-seeking.\n",
    "\n",
    "# Why it matters (quick intuition)\n",
    "\n",
    "* In supervised learning with softmax, the usual loss is cross-entropy $H(P,Q)$, equivalent to minimizing $D_{\\mathrm{KL}}(P\\|Q)$ w\\.r.t. $Q$.\n",
    "* In VAEs, a KL term regularizes the approximate posterior $q_\\phi(z\\mid x)$ toward a simple prior $p(z)$ (often $\\mathcal N(0,I)$).\n",
    "* In information theory, KL is the expected extra code length when coding samples from $P$ using a code optimized for $Q$.\n",
    "\n",
    "# Handy closed form: Gaussian–Gaussian\n",
    "\n",
    "For $P=\\mathcal N(\\mu_p,\\Sigma_p)$, $Q=\\mathcal N(\\mu_q,\\Sigma_q)$ in $k$ dimensions:\n",
    "\n",
    "$$\n",
    "D_{\\mathrm{KL}}(P\\|Q) = \\frac{1}{2}\\Big(\n",
    "\\log\\frac{\\det\\Sigma_q}{\\det\\Sigma_p}\n",
    "- k\n",
    "+ \\mathrm{tr}(\\Sigma_q^{-1}\\Sigma_p)\n",
    "+ (\\mu_q-\\mu_p)^\\top \\Sigma_q^{-1}(\\mu_q-\\mu_p)\n",
    "\\Big)\n",
    "$$\n",
    "\n",
    "(For diagonal covariances this simplifies element-wise.)\n",
    "\n"
   ]
  },
  {
   "cell_type": "code",
   "execution_count": 1,
   "id": "2ba9ff97-8581-4b2a-a42c-1a24bf8fdf20",
   "metadata": {},
   "outputs": [],
   "source": [
    "import torch\n",
    "import torch.nn.functional as F"
   ]
  },
  {
   "cell_type": "code",
   "execution_count": 2,
   "id": "6bf76966-8f26-4c48-a743-6ab2b93eace1",
   "metadata": {},
   "outputs": [
    {
     "name": "stdout",
     "output_type": "stream",
     "text": [
      "Q probs: tensor([0.6485, 0.2637, 0.0878])\n",
      "KL(P||Q): 0.011200123466551304  | via CE-Entropy: 0.011200129985809326\n"
     ]
    }
   ],
   "source": [
    "## 1) Discrete KL between two categorical distributions\n",
    "\n",
    "\n",
    "# Ground-truth distribution P (e.g., a soft label)\n",
    "P = torch.tensor([0.7, 0.2, 0.1])  # must sum to 1\n",
    "# Model logits for Q (before softmax)\n",
    "logits_Q = torch.tensor([1.2, 0.3, -0.8])\n",
    "\n",
    "# Convert logits to log-probs with log_softmax (stable)\n",
    "log_Q = F.log_softmax(logits_Q, dim=0)\n",
    "Q = log_Q.exp()\n",
    "\n",
    "# KL(P || Q) = sum P * (log P - log Q)\n",
    "log_P = torch.log(P)\n",
    "kl_PQ = torch.sum(P * (log_P - log_Q))\n",
    "\n",
    "# Cross-entropy & entropy check: KL = H(P,Q) - H(P)\n",
    "cross_entropy = -torch.sum(P * log_Q)\n",
    "entropy_P = -torch.sum(P * log_P)\n",
    "kl_check = cross_entropy - entropy_P\n",
    "\n",
    "print(\"Q probs:\", Q)\n",
    "print(\"KL(P||Q):\", kl_PQ.item(), \" | via CE-Entropy:\", kl_check.item())"
   ]
  },
  {
   "cell_type": "markdown",
   "id": "19236767-373b-4d06-b570-0bd73f55a024",
   "metadata": {},
   "source": [
    "**Notes**\n",
    "\n",
    "* Use `log_softmax` + log-space math for numerical stability.\n",
    "* If $P$ is one-hot, this reduces to the usual negative log-likelihood for the correct class.\n"
   ]
  },
  {
   "cell_type": "code",
   "execution_count": 3,
   "id": "5ff8048c-4eb9-4a59-b466-b3afdfdda9bc",
   "metadata": {},
   "outputs": [
    {
     "name": "stdout",
     "output_type": "stream",
     "text": [
      "KL(P||Q): 2.8068528175354004   KL(Q||P): 0.8181471824645996\n",
      "Diag MV KL(P||Q): 0.4773434102535248\n"
     ]
    }
   ],
   "source": [
    "## 2) KL between Gaussians (analytic) with `torch.distributions`\n",
    "\n",
    "import torch\n",
    "from torch.distributions import Normal, Independent, kl_divergence\n",
    "\n",
    "# 1D Gaussians\n",
    "P = Normal(loc=torch.tensor(0.0), scale=torch.tensor(1.0))      # N(0,1)\n",
    "Q = Normal(loc=torch.tensor(1.0), scale=torch.tensor(0.5))      # N(1,0.5^2)\n",
    "\n",
    "kl_PQ = kl_divergence(P, Q)\n",
    "kl_QP = kl_divergence(Q, P)\n",
    "print(\"KL(P||Q):\", kl_PQ.item(), \"  KL(Q||P):\", kl_QP.item())\n",
    "\n",
    "# Multivariate diagonal case using Independent(Normal(...))\n",
    "mu_p = torch.tensor([0.0, 1.0, -1.0])\n",
    "logvar_p = torch.tensor([0.0, -0.5, 0.2])   # log sigma^2\n",
    "mu_q = torch.tensor([0.5, 0.5, -0.5])\n",
    "logvar_q = torch.tensor([-0.2, 0.0, 0.0])\n",
    "\n",
    "P_diag = Independent(Normal(loc=mu_p, scale=(0.5*logvar_p).exp()), 1)\n",
    "Q_diag = Independent(Normal(loc=mu_q, scale=(0.5*logvar_q).exp()), 1)\n",
    "\n",
    "print(\"Diag MV KL(P||Q):\", kl_divergence(P_diag, Q_diag).item())"
   ]
  },
  {
   "cell_type": "markdown",
   "id": "ee689871-9fe5-43a0-8b85-d2cb2e93869d",
   "metadata": {},
   "source": [
    "## 3) Monte-Carlo estimate of KL when you can sample $x\\sim P$ but don’t have a closed form\n",
    "\n",
    "Using the expectation form $D_{\\mathrm{KL}}(P\\|Q)=\\mathbb{E}_{x\\sim P}[\\log p(x)-\\log q(x)]$."
   ]
  },
  {
   "cell_type": "code",
   "execution_count": 4,
   "id": "52877805-cbdb-4cf4-b2f9-04ca1e9ff65a",
   "metadata": {},
   "outputs": [
    {
     "name": "stdout",
     "output_type": "stream",
     "text": [
      "MC estimate KL(P||Q): 2.8220419883728027\n"
     ]
    }
   ],
   "source": [
    "import torch\n",
    "from torch.distributions import Normal\n",
    "\n",
    "torch.manual_seed(0)\n",
    "P = Normal(0., 1.)      # true\n",
    "Q = Normal(1., 0.5)     # approximation\n",
    "\n",
    "N = 200000\n",
    "x = P.sample((N,))       # x ~ P\n",
    "mc_kl = (P.log_prob(x) - Q.log_prob(x)).mean()\n",
    "print(\"MC estimate KL(P||Q):\", mc_kl.item())"
   ]
  },
  {
   "cell_type": "markdown",
   "id": "e8627199-f106-4ef1-9f7f-a6dd69fcc6a6",
   "metadata": {},
   "source": [
    "As $N$ grows, this approaches the analytic kl_divergence(P,Q).\n",
    "\n",
    "## 4) VAE-style KL: $q_\\phi(z\\mid x)=\\mathcal N(\\mu,\\mathrm{diag}(\\sigma^2))$ vs prior $p(z)=\\mathcal N(0,I)$\n",
    "\n",
    "The per-dimension closed form (summed over dims):\n",
    "\n",
    "$$\n",
    "D_{\\mathrm{KL}}\\big(\\mathcal N(\\mu,\\mathrm{diag}(\\sigma^2)) \\,\\|\\, \\mathcal N(0,I)\\big)\n",
    "= \\frac{1}{2}\\sum_i \\big(\\mu_i^2 + \\sigma_i^2 - 1 - \\log \\sigma_i^2\\big)\n",
    "$$"
   ]
  },
  {
   "cell_type": "code",
   "execution_count": 5,
   "id": "c3f30d75-fa36-49c1-ad2b-e53fcdd6a0d4",
   "metadata": {},
   "outputs": [
    {
     "name": "stdout",
     "output_type": "stream",
     "text": [
      "KL to N(0,I) per sample: tensor([0., 0., 0., 0.])\n"
     ]
    }
   ],
   "source": [
    "import torch\n",
    "\n",
    "def kl_standard_normal(mu, logvar):\n",
    "    # mu, logvar: (batch, latent_dim)\n",
    "    # returns KL per-sample\n",
    "    return 0.5 * torch.sum(mu.pow(2) + logvar.exp() - 1.0 - logvar, dim=1)\n",
    "\n",
    "# Example batch\n",
    "batch = 4\n",
    "latent_dim = 8\n",
    "mu = torch.zeros(batch, latent_dim)               # pretend encoder output\n",
    "logvar = torch.zeros(batch, latent_dim)           # log sigma^2\n",
    "kl = kl_standard_normal(mu, logvar)               # shape: (batch,)\n",
    "print(\"KL to N(0,I) per sample:\", kl)             # zeros because mu=0, logvar=0 => σ^2=1"
   ]
  },
  {
   "cell_type": "markdown",
   "id": "acbed525-b3ea-4761-b0b2-94fad8253a49",
   "metadata": {},
   "source": [
    "## 5) Training loop snippet: minimizing KL wrt $Q$\n",
    "\n",
    "If you have fixed $P$ (e.g., labels or teacher distribution) and you’re learning $Q_\\theta$, a stable objective is the cross-entropy $H(P,Q_\\theta)$ (equivalent to KL up to a constant):\n"
   ]
  },
  {
   "cell_type": "code",
   "execution_count": 6,
   "id": "327a8e7b-40a6-4584-889d-e2c73b69ceec",
   "metadata": {},
   "outputs": [
    {
     "name": "stdout",
     "output_type": "stream",
     "text": [
      "KL loss: 1.0116071701049805\n"
     ]
    }
   ],
   "source": [
    "import torch\n",
    "import torch.nn.functional as F\n",
    "\n",
    "def kl_loss_to_target_distribution(logits, target_probs):\n",
    "    # logits: (B, C), target_probs: (B, C) rows sum to 1\n",
    "    log_q = F.log_softmax(logits, dim=1)\n",
    "    log_p = torch.log(target_probs.clamp_min(1e-12))\n",
    "    return torch.mean(torch.sum(target_probs * (log_p - log_q), dim=1))  # KL(P||Q)\n",
    "\n",
    "# Example\n",
    "B, C = 3, 5\n",
    "logits = torch.randn(B, C, requires_grad=True)\n",
    "with torch.no_grad():\n",
    "    target_probs = F.softmax(torch.randn(B, C), dim=1)\n",
    "\n",
    "loss = kl_loss_to_target_distribution(logits, target_probs)\n",
    "loss.backward()\n",
    "print(\"KL loss:\", loss.item())\n"
   ]
  },
  {
   "cell_type": "markdown",
   "id": "760de1c9-605d-4ff2-a061-42af0e93a11d",
   "metadata": {},
   "source": [
    "## Common gotchas\n",
    "\n",
    "* **Support mismatch:** If $Q(x)=0$ where $P(x)>0$, $D_{\\mathrm{KL}}(P\\|Q)=\\infty$. In code, clamp probabilities when taking logs.\n",
    "* **Direction matters:** Swapping $P$ and $Q$ changes both the value and the behavior of the optimizer.\n",
    "* **Log-space for stability:** Prefer log-probs (`log_softmax`) and add small eps when taking logs of empirical probabilities."
   ]
  }
 ],
 "metadata": {
  "kernelspec": {
   "display_name": "Python (kaveh)",
   "language": "python",
   "name": "kaveh"
  },
  "language_info": {
   "codemirror_mode": {
    "name": "ipython",
    "version": 3
   },
   "file_extension": ".py",
   "mimetype": "text/x-python",
   "name": "python",
   "nbconvert_exporter": "python",
   "pygments_lexer": "ipython3",
   "version": "3.12.11"
  }
 },
 "nbformat": 4,
 "nbformat_minor": 5
}
